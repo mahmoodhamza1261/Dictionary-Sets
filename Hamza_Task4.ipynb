{
  "nbformat": 4,
  "nbformat_minor": 0,
  "metadata": {
    "colab": {
      "provenance": []
    },
    "kernelspec": {
      "name": "python3",
      "display_name": "Python 3"
    },
    "language_info": {
      "name": "python"
    }
  },
  "cells": [
    {
      "cell_type": "markdown",
      "source": [
        "1. Create a Dictionary:\n",
        "o Create a dictionary to store the names and ages of five people. Print the\n",
        "dictionary."
      ],
      "metadata": {
        "id": "zeUM0eMAP0Wx"
      }
    },
    {
      "cell_type": "code",
      "execution_count": 1,
      "metadata": {
        "colab": {
          "base_uri": "https://localhost:8080/"
        },
        "id": "9Te-4SF2PzQ_",
        "outputId": "68339d5c-09af-4275-9a4e-d5c8cf159811"
      },
      "outputs": [
        {
          "output_type": "stream",
          "name": "stdout",
          "text": [
            "{'Hamza': '13', 'talha': '12', 'usama': '11', 'hassan': '28', 'komal': '31'}\n"
          ]
        }
      ],
      "source": [
        "dictionary={\"Hamza\":\"13\",\"talha\":\"12\",\"usama\":\"11\",\"hassan\":\"28\",\"komal\":\"31\"}\n",
        "print(dictionary)"
      ]
    },
    {
      "cell_type": "markdown",
      "source": [
        "2. Accessing Values:\n",
        "o Given a dictionary with student names as keys and their grades as values, print the\n",
        "grade of the student named &quot;Alice&quot;:\n",
        "students_grades = {&quot;John&quot;: &quot;A&quot;, &quot;Alice&quot;: &quot;B&quot;, &quot;Bob&quot;: &quot;C&quot;,\n",
        "&quot;Diana&quot;: &quot;A&quot;}"
      ],
      "metadata": {
        "id": "Dtg-kfVuP6qP"
      }
    },
    {
      "cell_type": "code",
      "source": [
        "dictionary={\"Hamza\":\"13\",\"talha\":\"12\",\"usama\":\"11\",\"hassan\":\"28\",\"komal\":\"31\"}\n",
        "print(dictionary[\"Hamza\"])"
      ],
      "metadata": {
        "colab": {
          "base_uri": "https://localhost:8080/"
        },
        "id": "W_3SbnpKP9hO",
        "outputId": "50284ce5-fa8e-4e05-e0a6-a61316636d31"
      },
      "execution_count": 2,
      "outputs": [
        {
          "output_type": "stream",
          "name": "stdout",
          "text": [
            "13\n"
          ]
        }
      ]
    },
    {
      "cell_type": "markdown",
      "source": [
        "3. Update a Dictionary:\n",
        "o Update the age of one person in the dictionary you created in Exercise 1. Print the\n",
        "updated dictionary."
      ],
      "metadata": {
        "id": "C05XeUGQP-EW"
      }
    },
    {
      "cell_type": "code",
      "source": [
        "dictionary[\"Hamza\"]=\"14\"\n",
        "print(dictionary)"
      ],
      "metadata": {
        "colab": {
          "base_uri": "https://localhost:8080/"
        },
        "id": "dKfkHcoaRpji",
        "outputId": "49f53a86-65b3-47f4-e6f0-99e1feafeb5f"
      },
      "execution_count": 3,
      "outputs": [
        {
          "output_type": "stream",
          "name": "stdout",
          "text": [
            "{'Hamza': '14', 'talha': '12', 'usama': '11', 'hassan': '28', 'komal': '31'}\n"
          ]
        }
      ]
    },
    {
      "cell_type": "markdown",
      "source": [
        "4. Add New Key-Value Pairs:\n",
        "o Add a new person to the dictionary created in Exercise 1. Print the updated\n",
        "dictionary."
      ],
      "metadata": {
        "id": "sLshNkQqP_-u"
      }
    },
    {
      "cell_type": "code",
      "source": [
        "dictionary[\"ali\"]=\"20\"\n",
        "print(dictionary)"
      ],
      "metadata": {
        "colab": {
          "base_uri": "https://localhost:8080/"
        },
        "id": "Ogvvh8b1Ru5A",
        "outputId": "30f6edd9-2848-4ae9-ded9-f37b848314f3"
      },
      "execution_count": 4,
      "outputs": [
        {
          "output_type": "stream",
          "name": "stdout",
          "text": [
            "{'Hamza': '14', 'talha': '12', 'usama': '11', 'hassan': '28', 'komal': '31', 'ali': '20'}\n"
          ]
        }
      ]
    },
    {
      "cell_type": "markdown",
      "source": [
        "5. Delete a Key-Value Pair:\n",
        "o Remove one person from the dictionary created in Exercise 1. Print the updated\n",
        "dictionary."
      ],
      "metadata": {
        "id": "CQB-Hk5MQDSW"
      }
    },
    {
      "cell_type": "code",
      "source": [
        "dictionary.pop(\"Hamza\")\n",
        "print(dictionary)"
      ],
      "metadata": {
        "colab": {
          "base_uri": "https://localhost:8080/"
        },
        "id": "ri0UscDpR1BA",
        "outputId": "80ed3afe-7aa1-4303-d185-696b6395650a"
      },
      "execution_count": 5,
      "outputs": [
        {
          "output_type": "stream",
          "name": "stdout",
          "text": [
            "{'talha': '12', 'usama': '11', 'hassan': '28', 'komal': '31', 'ali': '20'}\n"
          ]
        }
      ]
    },
    {
      "cell_type": "markdown",
      "source": [
        "6. Check for Key Existence:\n",
        "o Check if a specific key (name) exists in the dictionary from Exercise 1. Print an\n",
        "appropriate message based on whether the key exists or not."
      ],
      "metadata": {
        "id": "DD5gaG9XQEae"
      }
    },
    {
      "cell_type": "code",
      "source": [
        "get_data=dictionary.get(\"Hamza\")\n",
        "if get_data==None:\n",
        "    print(\"key does not exist\")\n",
        "else:\n",
        "    print(\"key exists\")"
      ],
      "metadata": {
        "colab": {
          "base_uri": "https://localhost:8080/"
        },
        "id": "EMBumfuvR4_4",
        "outputId": "2893ded6-29eb-47d6-bed3-c0c6c7807824"
      },
      "execution_count": 7,
      "outputs": [
        {
          "output_type": "stream",
          "name": "stdout",
          "text": [
            "key does not exist\n"
          ]
        }
      ]
    },
    {
      "cell_type": "markdown",
      "source": [
        "7. Iterate Through a Dictionary:\n",
        "o Iterate through the dictionary from Exercise 1 and print each key-value pair."
      ],
      "metadata": {
        "id": "gvrdDUIzQH3V"
      }
    },
    {
      "cell_type": "code",
      "source": [
        "for key,value in dictionary.items():\n",
        "    print(key,value)"
      ],
      "metadata": {
        "colab": {
          "base_uri": "https://localhost:8080/"
        },
        "id": "I2lpBJYiSRVh",
        "outputId": "643da803-11f3-42b5-cec0-59fe8e3bce41"
      },
      "execution_count": 8,
      "outputs": [
        {
          "output_type": "stream",
          "name": "stdout",
          "text": [
            "talha 12\n",
            "usama 11\n",
            "hassan 28\n",
            "komal 31\n",
            "ali 20\n"
          ]
        }
      ]
    },
    {
      "cell_type": "markdown",
      "source": [
        "8. Dictionary Length:\n",
        "o Find and print the number of key-value pairs in the dictionary from Exercise 1."
      ],
      "metadata": {
        "id": "3fiqByKUQQhN"
      }
    },
    {
      "cell_type": "code",
      "source": [
        "dictionary_length=len(dictionary)\n",
        "print(dictionary_length)"
      ],
      "metadata": {
        "colab": {
          "base_uri": "https://localhost:8080/"
        },
        "id": "V_j4BfgNSYBe",
        "outputId": "d2dc201b-a760-4af1-d278-b6da4d38371b"
      },
      "execution_count": 9,
      "outputs": [
        {
          "output_type": "stream",
          "name": "stdout",
          "text": [
            "5\n"
          ]
        }
      ]
    },
    {
      "cell_type": "markdown",
      "source": [
        "9. Copy a Dictionary:\n",
        "o Create a copy of the dictionary from Exercise 1. Modify the copy and print both\n",
        "the original and the modified copy."
      ],
      "metadata": {
        "id": "6syLLv0sQSOF"
      }
    },
    {
      "cell_type": "code",
      "source": [
        "copy_dictionary=dictionary.copy()\n",
        "copy_dictionary[\"ali\"]=\"21\"\n",
        "print(dictionary)\n",
        "print(copy_dictionary)"
      ],
      "metadata": {
        "colab": {
          "base_uri": "https://localhost:8080/"
        },
        "id": "8HpvyAU-Shod",
        "outputId": "3823a997-21af-4f63-c8f4-4e2b9933cbed"
      },
      "execution_count": 10,
      "outputs": [
        {
          "output_type": "stream",
          "name": "stdout",
          "text": [
            "{'talha': '12', 'usama': '11', 'hassan': '28', 'komal': '31', 'ali': '20'}\n",
            "{'talha': '12', 'usama': '11', 'hassan': '28', 'komal': '31', 'ali': '21'}\n"
          ]
        }
      ]
    },
    {
      "cell_type": "markdown",
      "source": [
        "10. Nested Dictionary:\n",
        "o Create a dictionary that stores the information of three people. Each person should\n",
        "have a nested dictionary containing their age, address, and phone number. Print\n",
        "the nested dictionary."
      ],
      "metadata": {
        "id": "IKoG91iFQUDl"
      }
    },
    {
      "cell_type": "code",
      "source": [
        "nested_dictionary={}\n",
        "nested_dictionary[\"hamza\"]={\"age\":\"14\",\"address\":\"islamabad\",\"phone\":\"03456789012\"}\n",
        "nested_dictionary[\"talha\"]={\"age\":\"12\",\"address\":\"lahore\",\"phone\":\"03456789012\"}\n",
        "nested_dictionary[\"usama\"]={\"age\":\"11\",\"address\":\"karachi\",\"phone\":\"03456789012\"}\n",
        "print(nested_dictionary)"
      ],
      "metadata": {
        "colab": {
          "base_uri": "https://localhost:8080/"
        },
        "id": "czfBg06YSpX8",
        "outputId": "864eb68c-4933-4a93-ef27-c14301be0f75"
      },
      "execution_count": 11,
      "outputs": [
        {
          "output_type": "stream",
          "name": "stdout",
          "text": [
            "{'hamza': {'age': '14', 'address': 'islamabad', 'phone': '03456789012'}, 'talha': {'age': '12', 'address': 'lahore', 'phone': '03456789012'}, 'usama': {'age': '11', 'address': 'karachi', 'phone': '03456789012'}}\n"
          ]
        }
      ]
    },
    {
      "cell_type": "markdown",
      "source": [
        "11. Merge Dictionaries:\n",
        "o Merge two dictionaries into one. Print the result."
      ],
      "metadata": {
        "id": "yKbsO4ZRQV5t"
      }
    },
    {
      "cell_type": "code",
      "source": [
        "dictionary1={\"Hamza\":\"13\",\"talha\":\"12\",\"usama\":\"11\",\"hassan\":\"28\",\"komal\":\"31\"}\n",
        "dictionary2={\"ali\":\"20\",\"usama\":\"10\"}\n",
        "dictionary1.update(dictionary2)\n",
        "print(dictionary1)"
      ],
      "metadata": {
        "colab": {
          "base_uri": "https://localhost:8080/"
        },
        "id": "bz8yoHSKTXrJ",
        "outputId": "9b4311bb-a707-4f14-b26d-cac511151654"
      },
      "execution_count": 12,
      "outputs": [
        {
          "output_type": "stream",
          "name": "stdout",
          "text": [
            "{'Hamza': '13', 'talha': '12', 'usama': '10', 'hassan': '28', 'komal': '31', 'ali': '20'}\n"
          ]
        }
      ]
    },
    {
      "cell_type": "markdown",
      "source": [
        "12. Dictionary of Lists:\n",
        "o Create a dictionary where the keys are the names of students and the values are\n",
        "lists of their grades. Print the dictionary."
      ],
      "metadata": {
        "id": "IVi7BWiLQYHc"
      }
    },
    {
      "cell_type": "code",
      "source": [
        "dictionary={\"Hamza\":[\"A\",\"B\",\"C\"],\"talha\":[\"A\",\"B\",\"C\"],\"usama\":[\"A\",\"B\",\"C\"],\"hassan\":[\"A\",\"B\",\"C\"],\"komal\":[\"A\",\"B\",\"C\"]}\n",
        "print(dictionary)"
      ],
      "metadata": {
        "colab": {
          "base_uri": "https://localhost:8080/"
        },
        "id": "7s76_GDXTmdY",
        "outputId": "d9c34b31-fc57-40d1-d0c3-080c6d76b158"
      },
      "execution_count": 13,
      "outputs": [
        {
          "output_type": "stream",
          "name": "stdout",
          "text": [
            "{'Hamza': ['A', 'B', 'C'], 'talha': ['A', 'B', 'C'], 'usama': ['A', 'B', 'C'], 'hassan': ['A', 'B', 'C'], 'komal': ['A', 'B', 'C']}\n"
          ]
        }
      ]
    },
    {
      "cell_type": "markdown",
      "source": [
        "13. Dictionary Comprehension:\n",
        "o Use dictionary comprehension to create a dictionary where the keys are numbers\n",
        "from 1 to 10 and the values are the squares of these numbers."
      ],
      "metadata": {
        "id": "bMAZPRF-QZps"
      }
    },
    {
      "cell_type": "code",
      "source": [
        "dictionary={i:i**2 for i in range(1,11)}\n",
        "print(dictionary)"
      ],
      "metadata": {
        "colab": {
          "base_uri": "https://localhost:8080/"
        },
        "id": "JKWzo2LQTs7J",
        "outputId": "50f78971-82b2-4ad0-9c7d-40fd865b051a"
      },
      "execution_count": 14,
      "outputs": [
        {
          "output_type": "stream",
          "name": "stdout",
          "text": [
            "{1: 1, 2: 4, 3: 9, 4: 16, 5: 25, 6: 36, 7: 49, 8: 64, 9: 81, 10: 100}\n"
          ]
        }
      ]
    },
    {
      "cell_type": "markdown",
      "source": [
        "14. From User Input:\n",
        "o Write a script to create a dictionary by taking name and age as input from the user\n",
        "for five people. Print the dictionary."
      ],
      "metadata": {
        "id": "-uAe0H1QQbhk"
      }
    },
    {
      "cell_type": "code",
      "source": [
        "dictionary={}\n",
        "for i in range(5):\n",
        "    name=input(\"enter name\")\n",
        "    age=int(input(\"enter age\"))\n",
        "    dictionary[name]=age\n",
        "print(dictionary)"
      ],
      "metadata": {
        "colab": {
          "base_uri": "https://localhost:8080/"
        },
        "id": "HEZNfgjtT1ig",
        "outputId": "9ca22633-5766-4b8d-9145-b30ad1fb0c40"
      },
      "execution_count": 15,
      "outputs": [
        {
          "output_type": "stream",
          "name": "stdout",
          "text": [
            "enter namehamza\n",
            "enter age12\n",
            "enter nametalha\n",
            "enter age11\n",
            "enter nameusama\n",
            "enter age10\n",
            "enter namehassan\n",
            "enter age28\n",
            "enter namekomal\n",
            "enter age30\n",
            "{'hamza': 12, 'talha': 11, 'usama': 10, 'hassan': 28, 'komal': 30}\n"
          ]
        }
      ]
    },
    {
      "cell_type": "markdown",
      "source": [
        "15. Count Occurrences:\n",
        "\n",
        "o Given a string, count the occurrences of each character using a dictionary. Print\n",
        "the dictionary."
      ],
      "metadata": {
        "id": "3UeivW0DQdEl"
      }
    },
    {
      "cell_type": "code",
      "source": [
        "string=\"hamza\"\n",
        "dictionary={}\n",
        "for i in string:\n",
        "    if i in dictionary:\n",
        "        dictionary[i]+=1\n",
        "    else:\n",
        "        dictionary[i]=1\n",
        "print(dictionary)"
      ],
      "metadata": {
        "colab": {
          "base_uri": "https://localhost:8080/"
        },
        "id": "-ehdU6ltUKCO",
        "outputId": "e75be0dd-555f-4104-e6b8-817d0c04c841"
      },
      "execution_count": 16,
      "outputs": [
        {
          "output_type": "stream",
          "name": "stdout",
          "text": [
            "{'h': 1, 'a': 2, 'm': 1, 'z': 1}\n"
          ]
        }
      ]
    },
    {
      "cell_type": "markdown",
      "source": [
        "16. Reverse Lookup:\n",
        "o Given a dictionary of names and ages, write a script to find and print the names of\n",
        "people with a specific age."
      ],
      "metadata": {
        "id": "zPVsnBQcQe58"
      }
    },
    {
      "cell_type": "code",
      "source": [
        "dictionary={\"Hamza\":\"13\",\"talha\":\"12\",\"usama\":\"11\",\"hassan\":\"28\",\"komal\":\"31\"}\n",
        "age=input(\"enter age\")\n",
        "for key,value in dictionary.items():\n",
        "    if value==age:\n",
        "        print(key)"
      ],
      "metadata": {
        "colab": {
          "base_uri": "https://localhost:8080/"
        },
        "id": "OBzuUwAIUkmF",
        "outputId": "b03bc729-a8f5-48bf-c35a-ee1c5382ea81"
      },
      "execution_count": 18,
      "outputs": [
        {
          "output_type": "stream",
          "name": "stdout",
          "text": [
            "enter age12\n",
            "talha\n"
          ]
        }
      ]
    },
    {
      "cell_type": "markdown",
      "source": [
        "17. Sum Values:\n",
        "o Given a dictionary with numerical values, calculate and print the sum of the\n",
        "values."
      ],
      "metadata": {
        "id": "O1M96qOFQgb9"
      }
    },
    {
      "cell_type": "code",
      "source": [
        "dictionary={\"Hamza\":\"13\",\"talha\":\"12\",\"usama\":\"11\",\"hassan\":\"28\",\"komal\":\"31\"}\n",
        "sum=0\n",
        "for value in dictionary.values():\n",
        "    sum+=int(value)\n",
        "print(sum)"
      ],
      "metadata": {
        "colab": {
          "base_uri": "https://localhost:8080/"
        },
        "id": "6VCsqwl4Ux9D",
        "outputId": "7bfd5f46-89ec-4dfc-ab74-304ebd26ad19"
      },
      "execution_count": 19,
      "outputs": [
        {
          "output_type": "stream",
          "name": "stdout",
          "text": [
            "95\n"
          ]
        }
      ]
    },
    {
      "cell_type": "markdown",
      "source": [
        "18. Top Student:\n",
        "o Given a dictionary of student names and their grades, find and print the name of\n",
        "the student with the highest grade."
      ],
      "metadata": {
        "id": "D1ggIHMhQh-c"
      }
    },
    {
      "cell_type": "code",
      "source": [
        "dictionary_student = {\"Hamza\": \"A\", \"Talha\": \"B\", \"Usama\": \"C\", \"Hassan\": \"D\", \"Komal\": \"E\"}\n",
        "\n",
        "# Initialize with lowest possible grade\n",
        "max_grade = 'F'  # Assuming grades are A, B, C, D, E\n",
        "max_student = \"\"\n",
        "\n",
        "for key, value in dictionary_student.items():\n",
        "    if value < max_grade:  # 'A' is the highest grade and 'E' is the lowest\n",
        "        max_grade = value\n",
        "        max_student = key\n",
        "\n",
        "print(max_student)"
      ],
      "metadata": {
        "colab": {
          "base_uri": "https://localhost:8080/"
        },
        "id": "_RCOpFAuU4Wz",
        "outputId": "0e911cd2-9078-42ba-f26e-d64e3333911a"
      },
      "execution_count": 21,
      "outputs": [
        {
          "output_type": "stream",
          "name": "stdout",
          "text": [
            "Hamza\n"
          ]
        }
      ]
    },
    {
      "cell_type": "markdown",
      "source": [
        "19. Unique Values:\n",
        "o Write a script to print all unique values in a dictionary."
      ],
      "metadata": {
        "id": "GD7-SQPEQjo0"
      }
    },
    {
      "cell_type": "code",
      "source": [
        "unique_values = set()\n",
        "\n",
        "for value in dictionary.values():\n",
        "    unique_values.add(value)\n",
        "\n",
        "print(unique_values)"
      ],
      "metadata": {
        "colab": {
          "base_uri": "https://localhost:8080/"
        },
        "id": "36BS45NwVgQB",
        "outputId": "79851132-e91e-4df7-d255-6652267de52c"
      },
      "execution_count": 22,
      "outputs": [
        {
          "output_type": "stream",
          "name": "stdout",
          "text": [
            "{'28', '12', '31', '13', '11'}\n"
          ]
        }
      ]
    },
    {
      "cell_type": "markdown",
      "source": [
        "20. Default Dictionary:\n",
        "o Use collections.defaultdict to create a dictionary that automatically assigns\n",
        "a default value of 0 to any key that does not exist. Add some values and print the\n",
        "dictionary."
      ],
      "metadata": {
        "id": "CQWOFZWGQlQr"
      }
    },
    {
      "cell_type": "code",
      "source": [
        "from collections import defaultdict\n",
        "\n",
        "# Create a defaultdict with default value 0\n",
        "default_dict = defaultdict(int)\n",
        "\n",
        "# Add some values to the dictionary\n",
        "default_dict['a'] = 5\n",
        "default_dict['b'] = 10\n",
        "\n",
        "# Access a key that does not exist\n",
        "print(f\"Value of key 'c' before adding: {default_dict['c']}\")  # This will add 'c' with a default value of 0\n",
        "\n",
        "# Print the dictionary\n",
        "print(default_dict)"
      ],
      "metadata": {
        "id": "ff3jZmhiVweY"
      },
      "execution_count": null,
      "outputs": []
    },
    {
      "cell_type": "markdown",
      "source": [
        "21. Dictionary from Two Lists:\n",
        "o Create a dictionary from two lists: one containing keys and the other containing\n",
        "values. Print the dictionary."
      ],
      "metadata": {
        "id": "IDfuEVffQnMc"
      }
    },
    {
      "cell_type": "code",
      "source": [
        "new_dictionary={}\n",
        "keys=[\"hamza\",\"talha\",\"usama\",\"hassan\",\"komal\"]\n",
        "values=[\"13\",\"12\",\"11\",\"28\",\"31\"]\n",
        "for key,value in zip(keys,values):\n",
        "    new_dictionary[key]=value\n",
        "print(new_dictionary)"
      ],
      "metadata": {
        "colab": {
          "base_uri": "https://localhost:8080/"
        },
        "id": "xi-rTPATWMi9",
        "outputId": "841bc24e-a9a5-421b-8bc4-09ed1988c70e"
      },
      "execution_count": 23,
      "outputs": [
        {
          "output_type": "stream",
          "name": "stdout",
          "text": [
            "{'hamza': '13', 'talha': '12', 'usama': '11', 'hassan': '28', 'komal': '31'}\n"
          ]
        }
      ]
    },
    {
      "cell_type": "markdown",
      "source": [
        "22. Group by Category:\n",
        "o Given a list of products, each with a name and category, group the products by\n",
        "category in a dictionary and print it."
      ],
      "metadata": {
        "id": "i8x6LT2gQpFU"
      }
    },
    {
      "cell_type": "code",
      "source": [
        "list_products=[{\"name\":\"product1\",\"category\":\"category1\"},{\"name\":\"product2\",\"category\":\"category2\"},{\"name\":\"product3\",\"category\":\"category1\"},{\"name\":\"product4\",\"category\":\"category2\"}]\n",
        "dictionary={}\n",
        "for product in list_products:\n",
        "    category=product[\"category\"]\n",
        "    if category in dictionary:\n",
        "        dictionary[category].append(product[\"name\"])\n",
        "    else:\n",
        "        dictionary[category]=[product[\"name\"]]\n",
        "print(dictionary)"
      ],
      "metadata": {
        "colab": {
          "base_uri": "https://localhost:8080/"
        },
        "id": "s7XhwbIgWkXl",
        "outputId": "7d1d9a06-37ad-4caa-8f95-bfd3a58443fd"
      },
      "execution_count": 24,
      "outputs": [
        {
          "output_type": "stream",
          "name": "stdout",
          "text": [
            "{'category1': ['product1', 'product3'], 'category2': ['product2', 'product4']}\n"
          ]
        }
      ]
    },
    {
      "cell_type": "markdown",
      "source": [
        "23. Dictionary to List:\n",
        "o Convert a dictionary into two lists: one for keys and one for values. Print both\n",
        "lists."
      ],
      "metadata": {
        "id": "dUiDp11TQqVj"
      }
    },
    {
      "cell_type": "code",
      "source": [
        "dictionary={\"hamza\":\"13\",\"talha\":\"12\",\"usama\":\"11\",\"hassan\":\"28\",\"komal\":\"31\"}\n",
        "keys=[]\n",
        "values=[]\n",
        "for key,value in dictionary.items():\n",
        "    keys.append(key)\n",
        "    values.append(value)\n",
        "print(keys)\n",
        "print(values)"
      ],
      "metadata": {
        "colab": {
          "base_uri": "https://localhost:8080/"
        },
        "id": "aLZ2wOCTXN83",
        "outputId": "31766827-b52e-4719-8bf6-0add8a56faec"
      },
      "execution_count": 25,
      "outputs": [
        {
          "output_type": "stream",
          "name": "stdout",
          "text": [
            "['hamza', 'talha', 'usama', 'hassan', 'komal']\n",
            "['13', '12', '11', '28', '31']\n"
          ]
        }
      ]
    },
    {
      "cell_type": "markdown",
      "source": [
        "24. Filter Dictionary:\n",
        " Write a script to filter a dictionary by retaining only those key-value pairs where the\n",
        "value is greater than a specified threshold. Print the filtered dictionary."
      ],
      "metadata": {
        "id": "e869MZKEQrtD"
      }
    },
    {
      "cell_type": "code",
      "source": [
        "dictionary={\"hamza\":\"13\",\"talha\":\"12\",\"usama\":\"11\",\"hassan\":\"28\",\"komal\":\"31\"}\n",
        "threshold=20\n",
        "filtered_dictionary={}\n",
        "for key,value in dictionary.items():\n",
        "    if int(value)>threshold:\n",
        "        filtered_dictionary[key]=value\n",
        "print(filtered_dictionary)"
      ],
      "metadata": {
        "colab": {
          "base_uri": "https://localhost:8080/"
        },
        "id": "vgvuhsZ3XYvC",
        "outputId": "e9c98bab-8fcf-40dd-db7c-721f13866cee"
      },
      "execution_count": 27,
      "outputs": [
        {
          "output_type": "stream",
          "name": "stdout",
          "text": [
            "{'hassan': '28', 'komal': '31'}\n"
          ]
        }
      ]
    },
    {
      "cell_type": "markdown",
      "source": [
        "25. Sorted Dictionary:\n",
        " Write a script to sort a dictionary by its keys and then by its values, and print the\n",
        "sorted dictionary."
      ],
      "metadata": {
        "id": "R5mxWjPHQtRz"
      }
    },
    {
      "cell_type": "code",
      "source": [
        "dictionary={\"hamza\":\"13\",\"talha\":\"12\",\"usama\":\"11\",\"hassan\":\"28\",\"komal\":\"31\"}\n",
        "sorted_dictionary=sorted(dictionary.values())\n",
        "print(sorted_dictionary)\n",
        "sorted_dictionary=sorted(dictionary.keys())\n",
        "print(sorted_dictionary)\n"
      ],
      "metadata": {
        "colab": {
          "base_uri": "https://localhost:8080/"
        },
        "id": "6hyUR-c0XkC5",
        "outputId": "a0316288-ab95-4c6b-b572-1f9803c2433c"
      },
      "execution_count": 30,
      "outputs": [
        {
          "output_type": "stream",
          "name": "stdout",
          "text": [
            "['11', '12', '13', '28', '31']\n",
            "['hamza', 'hassan', 'komal', 'talha', 'usama']\n"
          ]
        }
      ]
    },
    {
      "cell_type": "markdown",
      "source": [
        "26. Create a Set:\n",
        "o Create a set containing the names of five fruits. Print the set."
      ],
      "metadata": {
        "id": "chvKQZyKQulL"
      }
    },
    {
      "cell_type": "code",
      "source": [
        "set1={\"apple\",\"banana\",\"cherry\",\"orange\",\"mango\"}\n",
        "print(set)"
      ],
      "metadata": {
        "colab": {
          "base_uri": "https://localhost:8080/"
        },
        "id": "NLv75WrEYAbo",
        "outputId": "790467d3-ee4b-4ab0-b1f4-2d282947d5be"
      },
      "execution_count": 34,
      "outputs": [
        {
          "output_type": "stream",
          "name": "stdout",
          "text": [
            "{'cherry', 'strawberry', 'banana', 'apple', 'mango', 'orange'}\n"
          ]
        }
      ]
    },
    {
      "cell_type": "markdown",
      "source": [
        "27. Add an Element:\n",
        "o Add a new fruit to the set you created in Exercise 1. Print the updated set."
      ],
      "metadata": {
        "id": "4QKFmykJQwLb"
      }
    },
    {
      "cell_type": "code",
      "source": [
        "# Assuming this is the set of fruits from Exercise 1\n",
        "fruits = {\"apple\", \"banana\", \"cherry\"}\n",
        "\n",
        "# Add a new fruit to the set\n",
        "fruits.add(\"orange\")\n",
        "\n",
        "# Print the updated set\n",
        "print(fruits)"
      ],
      "metadata": {
        "colab": {
          "base_uri": "https://localhost:8080/"
        },
        "id": "t5RiH9NsYDQg",
        "outputId": "180531fd-dc20-4734-8e49-ba19f5d34763"
      },
      "execution_count": 38,
      "outputs": [
        {
          "output_type": "stream",
          "name": "stdout",
          "text": [
            "{'banana', 'apple', 'cherry', 'orange'}\n"
          ]
        }
      ]
    },
    {
      "cell_type": "markdown",
      "source": [
        "28. Remove an Element:\n",
        "o Remove a fruit from the set you created in Exercise 1. Print the updated set."
      ],
      "metadata": {
        "id": "VZ33IWmgQxwj"
      }
    },
    {
      "cell_type": "code",
      "source": [
        "fruits.remove(\"banana\")\n",
        "print(fruits)"
      ],
      "metadata": {
        "colab": {
          "base_uri": "https://localhost:8080/"
        },
        "id": "3WZePNq9YmrZ",
        "outputId": "89e650a8-8856-43c0-8a94-af86310b1c42"
      },
      "execution_count": 39,
      "outputs": [
        {
          "output_type": "stream",
          "name": "stdout",
          "text": [
            "{'apple', 'cherry', 'orange'}\n"
          ]
        }
      ]
    },
    {
      "cell_type": "markdown",
      "source": [
        "29. Check Membership:\n",
        "o Write a script to check if a specific fruit is in the set created in Exercise 1. Print an\n",
        "appropriate message."
      ],
      "metadata": {
        "id": "htRqIGUEQzc6"
      }
    },
    {
      "cell_type": "code",
      "source": [
        "if \"apple\" in fruits:\n",
        "    print(\"apple is in the set\")\n",
        "else:\n",
        "    print(\"apple is not in the set\")"
      ],
      "metadata": {
        "colab": {
          "base_uri": "https://localhost:8080/"
        },
        "id": "QVtW4ANuYr71",
        "outputId": "c98f19c5-08fe-46d9-9d43-358cacc8f935"
      },
      "execution_count": 40,
      "outputs": [
        {
          "output_type": "stream",
          "name": "stdout",
          "text": [
            "apple is in the set\n"
          ]
        }
      ]
    },
    {
      "cell_type": "markdown",
      "source": [
        "30. Union of Sets:\n",
        "o Create two sets of fruits and find their union. Print the resulting set."
      ],
      "metadata": {
        "id": "nQuYh1DOQ1Ei"
      }
    },
    {
      "cell_type": "code",
      "source": [
        "set1={\"apple\",\"banana\",\"cherry\"}\n",
        "set2={\"orange\",\"mango\",\"pineapple\"}\n",
        "union_set=set1.union(set2)\n",
        "print(union_set)"
      ],
      "metadata": {
        "colab": {
          "base_uri": "https://localhost:8080/"
        },
        "id": "tsFePVPYYv_N",
        "outputId": "f3963550-11ab-424d-b8af-a97542e23b98"
      },
      "execution_count": 41,
      "outputs": [
        {
          "output_type": "stream",
          "name": "stdout",
          "text": [
            "{'cherry', 'pineapple', 'banana', 'apple', 'mango', 'orange'}\n"
          ]
        }
      ]
    },
    {
      "cell_type": "markdown",
      "source": [
        "31. Intersection of Sets:\n",
        "o Create two sets of fruits and find their intersection. Print the resulting set."
      ],
      "metadata": {
        "id": "FtyPMANEQ26z"
      }
    },
    {
      "cell_type": "code",
      "source": [
        "intersection=set1.intersection(set2)\n",
        "print(intersection)"
      ],
      "metadata": {
        "colab": {
          "base_uri": "https://localhost:8080/"
        },
        "id": "vPRfQ4lkY1Hs",
        "outputId": "dcab3e0e-6cd7-4ead-e606-d6984264e551"
      },
      "execution_count": 42,
      "outputs": [
        {
          "output_type": "stream",
          "name": "stdout",
          "text": [
            "set()\n"
          ]
        }
      ]
    },
    {
      "cell_type": "markdown",
      "source": [
        "32. Difference of Sets:\n",
        "o Create two sets of fruits and find the difference between them. Print the resulting\n",
        "set."
      ],
      "metadata": {
        "id": "jp-O6MfUQ4US"
      }
    },
    {
      "cell_type": "code",
      "source": [
        "difference=set1.difference(set2)\n",
        "print(difference)"
      ],
      "metadata": {
        "colab": {
          "base_uri": "https://localhost:8080/"
        },
        "id": "nEHSxd94Y95E",
        "outputId": "e10d4eb8-bf89-45ab-ac33-d671f9c68d08"
      },
      "execution_count": 43,
      "outputs": [
        {
          "output_type": "stream",
          "name": "stdout",
          "text": [
            "{'banana', 'apple', 'cherry'}\n"
          ]
        }
      ]
    },
    {
      "cell_type": "markdown",
      "source": [
        "33. Symmetric Difference of Sets:\n",
        "o Create two sets of fruits and find their symmetric difference. Print the resulting\n",
        "set."
      ],
      "metadata": {
        "id": "LIqnKoRSQ6EK"
      }
    },
    {
      "cell_type": "code",
      "source": [
        "symmetric_difference=set1.symmetric_difference(set2)\n",
        "print(symmetric_difference)"
      ],
      "metadata": {
        "colab": {
          "base_uri": "https://localhost:8080/"
        },
        "id": "76_lOXepZC70",
        "outputId": "dc7cf505-db0a-4d5b-a9eb-770cf1f49bb3"
      },
      "execution_count": 44,
      "outputs": [
        {
          "output_type": "stream",
          "name": "stdout",
          "text": [
            "{'cherry', 'banana', 'apple', 'pineapple', 'orange', 'mango'}\n"
          ]
        }
      ]
    },
    {
      "cell_type": "markdown",
      "source": [
        "34. Subset Check:\n",
        "o Write a script to check if one set is a subset of another. Print an appropriate\n",
        "message."
      ],
      "metadata": {
        "id": "8NRj6J5ZQ7Zy"
      }
    },
    {
      "cell_type": "code",
      "source": [
        "if set1.issubset(set2):\n",
        "    print(\"set1 is a subset of set2\")\n",
        "else:\n",
        "    print(\"set1 is not a subset of set2\")"
      ],
      "metadata": {
        "colab": {
          "base_uri": "https://localhost:8080/"
        },
        "id": "JYlztMooZOxD",
        "outputId": "dca652b4-6446-43a5-d0f8-16f9ac87065c"
      },
      "execution_count": 45,
      "outputs": [
        {
          "output_type": "stream",
          "name": "stdout",
          "text": [
            "set1 is not a subset of set2\n"
          ]
        }
      ]
    },
    {
      "cell_type": "markdown",
      "source": [
        "35. Superset Check:\n",
        "o Write a script to check if one set is a superset of another. Print an appropriate\n",
        "message."
      ],
      "metadata": {
        "id": "oIt1IwnXQ81S"
      }
    },
    {
      "cell_type": "code",
      "source": [
        "if set2.issuperset(set1):\n",
        "    print(\"set2 is a superset of set1\")\n",
        "else:\n",
        "    print(\"set2 is not a superset of set1\")"
      ],
      "metadata": {
        "colab": {
          "base_uri": "https://localhost:8080/"
        },
        "id": "icLtClhKZaHi",
        "outputId": "84fd7318-8c1b-421d-f2c0-e110da194b35"
      },
      "execution_count": 47,
      "outputs": [
        {
          "output_type": "stream",
          "name": "stdout",
          "text": [
            "set2 is not a superset of set1\n"
          ]
        }
      ]
    },
    {
      "cell_type": "markdown",
      "source": [
        "36. Iterate Through a Set:\n",
        "o Write a script to iterate through a set and print each element."
      ],
      "metadata": {
        "id": "H6_dKjv0Q-sK"
      }
    },
    {
      "cell_type": "code",
      "source": [
        "for i in set1:\n",
        "    print(i)"
      ],
      "metadata": {
        "colab": {
          "base_uri": "https://localhost:8080/"
        },
        "id": "mJxt53zeZ5to",
        "outputId": "8a039295-2d27-4a32-8e16-6bb8702aec6d"
      },
      "execution_count": 48,
      "outputs": [
        {
          "output_type": "stream",
          "name": "stdout",
          "text": [
            "banana\n",
            "apple\n",
            "cherry\n"
          ]
        }
      ]
    },
    {
      "cell_type": "markdown",
      "source": [
        "37. Set Length:\n",
        "o Write a script to find and print the number of elements in a set."
      ],
      "metadata": {
        "id": "O0X1fdy8RAyq"
      }
    },
    {
      "cell_type": "code",
      "source": [
        "length_set=len(set1)\n",
        "print(length_set)"
      ],
      "metadata": {
        "colab": {
          "base_uri": "https://localhost:8080/"
        },
        "id": "-YhT1RnTZ8-Q",
        "outputId": "2ae74b89-4f1d-4d1d-daa0-5c6f01f4a241"
      },
      "execution_count": 49,
      "outputs": [
        {
          "output_type": "stream",
          "name": "stdout",
          "text": [
            "3\n"
          ]
        }
      ]
    },
    {
      "cell_type": "markdown",
      "source": [
        "38. Remove Duplicates:\n",
        "o Given a list of numbers, write a script to remove duplicates by converting the list\n",
        "to a set. Print the resulting set."
      ],
      "metadata": {
        "id": "D4gxBrzTRCPB"
      }
    },
    {
      "cell_type": "code",
      "source": [],
      "metadata": {
        "colab": {
          "base_uri": "https://localhost:8080/"
        },
        "id": "wEpXwHNAREXh",
        "outputId": "e033e100-6fe2-4469-f881-4027b70a1ac8"
      },
      "execution_count": 70,
      "outputs": [
        {
          "output_type": "stream",
          "name": "stdout",
          "text": [
            "<class 'set'>\n",
            "{1, 2, 3, 4, 5}\n"
          ]
        }
      ]
    }
  ]
}